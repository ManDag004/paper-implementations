{
 "cells": [
  {
   "cell_type": "code",
   "execution_count": 3,
   "metadata": {},
   "outputs": [],
   "source": [
    "import torch\n",
    "import torch.nn as nn\n",
    "import torch.nn.functional as F\n",
    "import torch.optim as optim\n",
    "import math"
   ]
  },
  {
   "cell_type": "code",
   "execution_count": 4,
   "metadata": {},
   "outputs": [],
   "source": [
    "class InputEmbeddings(nn.Module):\n",
    "  def __init__(self, vocab_size, d_model=512):\n",
    "    super().__init__()\n",
    "    self.vocab_size = vocab_size\n",
    "    self.d_model = d_model\n",
    "    self.embedding = nn.Embedding(vocab_size, d_model)\n",
    "\n",
    "  def forward(self, x):\n",
    "    return self.embedding(x) * math.sqrt(self.d_model)"
   ]
  },
  {
   "cell_type": "code",
   "execution_count": 5,
   "metadata": {},
   "outputs": [],
   "source": [
    "class PositionalEncoding(nn.Module):\n",
    "  def __init__(self, seq_size, d_model=512):\n",
    "    self.seq_size = seq_size\n",
    "    self.d_model = d_model\n",
    "\n",
    "    self.pos_enc = torch.zeros(seq_size, d_model)\n",
    "    pos = torch.arange(0, seq_size).view(-1, 1).float()\n",
    "    common = torch.exp(torch.arange(0, d_model, 2).float() * -(math.log(10000.0) / d_model))\n",
    "\n",
    "    self.pos_enc[:, 0::2] = torch.sin(pos * common)\n",
    "    self.pos_enc[:, 1::2] = torch.cos(pos * common)\n",
    "    self.pos_enc.view(1, seq_size, -1).requires_grad_(False)\n",
    "\n",
    "  def forward(self, x):\n",
    "    return x + self.pos_enc[:, :x.size(1)] # x.size(1) is the sequence length, pos_enc is always fixed\n"
   ]
  },
  {
   "cell_type": "code",
   "execution_count": 6,
   "metadata": {},
   "outputs": [],
   "source": [
    "class FeedForward(nn.Module):\n",
    "  def __init__(self, d_model=512, d_ff=2048, drop=0.1):\n",
    "    super().__init__()\n",
    "    self.d_model = d_model\n",
    "    self.d_ff = d_ff\n",
    "    \n",
    "    self.net = nn.Sequential(\n",
    "      nn.Linear(self.d_model, self.d_ff),\n",
    "      nn.Relu(),\n",
    "      nn.Dropout(drop),\n",
    "      nn.Linear(self.d_ff, self.d_model),\n",
    "    )\n",
    "  \n",
    "  def forward(self, x):\n",
    "    return self.net(x)"
   ]
  },
  {
   "cell_type": "code",
   "execution_count": 7,
   "metadata": {},
   "outputs": [],
   "source": [
    "class MultiHeadAttentionBlock(nn.Module):\n",
    "\n",
    "    def __init__(self, d_model: int, h: int, dropout: float) -> None:\n",
    "        super().__init__()\n",
    "        self.d_model = d_model # Embedding vector size\n",
    "        self.h = h # Number of heads\n",
    "        # Make sure d_model is divisible by h\n",
    "        assert d_model % h == 0, \"d_model is not divisible by h\"\n",
    "\n",
    "        self.d_k = d_model // h # Dimension of vector seen by each head\n",
    "        self.w_q = nn.Linear(d_model, d_model, bias=False) # Wq\n",
    "        self.w_k = nn.Linear(d_model, d_model, bias=False) # Wk\n",
    "        self.w_v = nn.Linear(d_model, d_model, bias=False) # Wv\n",
    "        self.w_o = nn.Linear(d_model, d_model, bias=False) # Wo\n",
    "        self.dropout = nn.Dropout(dropout)\n",
    "\n",
    "    @staticmethod\n",
    "    def attention(query, key, value, mask, dropout: nn.Dropout):\n",
    "        d_k = query.shape[-1]\n",
    "        # Just apply the formula from the paper\n",
    "        # (batch, h, seq_len, d_k) --> (batch, h, seq_len, seq_len)\n",
    "        attention_scores = (query @ key.transpose(-2, -1)) / math.sqrt(d_k)\n",
    "        if mask is not None:\n",
    "            # Write a very low value (indicating -inf) to the positions where mask == 0\n",
    "            attention_scores.masked_fill_(mask == 0, -1e9)\n",
    "        attention_scores = attention_scores.softmax(dim=-1) # (batch, h, seq_len, seq_len) # Apply softmax\n",
    "        if dropout is not None:\n",
    "            attention_scores = dropout(attention_scores)\n",
    "        # (batch, h, seq_len, seq_len) --> (batch, h, seq_len, d_k)\n",
    "        # return attention scores which can be used for visualization\n",
    "        return (attention_scores @ value), attention_scores\n",
    "\n",
    "    def forward(self, q, k, v, mask):\n",
    "        query = self.w_q(q) # (batch, seq_len, d_model) --> (batch, seq_len, d_model)\n",
    "        key = self.w_k(k) # (batch, seq_len, d_model) --> (batch, seq_len, d_model)\n",
    "        value = self.w_v(v) # (batch, seq_len, d_model) --> (batch, seq_len, d_model)\n",
    "\n",
    "        # (batch, seq_len, d_model) --> (batch, seq_len, h, d_k) --> (batch, h, seq_len, d_k)\n",
    "        query = query.view(query.shape[0], query.shape[1], self.h, self.d_k).transpose(1, 2)\n",
    "        key = key.view(key.shape[0], key.shape[1], self.h, self.d_k).transpose(1, 2)\n",
    "        value = value.view(value.shape[0], value.shape[1], self.h, self.d_k).transpose(1, 2)\n",
    "\n",
    "        # Calculate attention\n",
    "        x, self.attention_scores = MultiHeadAttentionBlock.attention(query, key, value, mask, self.dropout)\n",
    "        \n",
    "        # Combine all the heads together\n",
    "        # (batch, h, seq_len, d_k) --> (batch, seq_len, h, d_k) --> (batch, seq_len, d_model)\n",
    "        x = x.transpose(1, 2).contiguous().view(x.shape[0], -1, self.h * self.d_k)\n",
    "\n",
    "        # Multiply by Wo\n",
    "        # (batch, seq_len, d_model) --> (batch, seq_len, d_model)  \n",
    "        return self.w_o(x)"
   ]
  },
  {
   "cell_type": "code",
   "execution_count": 8,
   "metadata": {},
   "outputs": [],
   "source": [
    "class ResConnection(nn.Module):\n",
    "  def __init__(self, sublayer, d_model=512, drop=0.1):\n",
    "    super().__init__()\n",
    "    self.sublayer = sublayer\n",
    "    self.norm = nn.LayerNorm(d_model)\n",
    "    self.drop = nn.Dropout(drop)\n",
    "\n",
    "  def forward(self, x, *args):\n",
    "    return self.norm(x + self.drop(self.sublayer(*args)))"
   ]
  },
  {
   "cell_type": "code",
   "execution_count": 9,
   "metadata": {},
   "outputs": [],
   "source": [
    "class Encoder(nn.Module):\n",
    "  def __init__(self, d_model=512, h=8, d_ff=2048, drop=0.1, N=6):\n",
    "    super().__init__()\n",
    "    self.layers = nn.ModuleList([\n",
    "      ResConnection(MultiHeadAttentionBlock(d_model, h, drop), d_model, drop),\n",
    "      ResConnection(FeedForward(d_model, d_ff, drop), d_model, drop)\n",
    "    ])\n",
    "    self.norm = nn.LayerNorm(d_model)\n",
    "\n",
    "  def forward(self, x, mask):\n",
    "    for layer in self.layers:\n",
    "      x = layer(x, x, x, mask)\n",
    "    return self.norm(x)"
   ]
  },
  {
   "cell_type": "code",
   "execution_count": 10,
   "metadata": {},
   "outputs": [],
   "source": [
    "class Decoder(nn.Module):\n",
    "  def __init__(self, d_model=512, h=8, d_ff=2048, drop=0.1, N=6):\n",
    "    super().__init__()\n",
    "    self.layers = nn.ModuleList([\n",
    "      ResConnection(MultiHeadAttentionBlock(d_model, h, drop), d_model, drop),\n",
    "      ResConnection(MultiHeadAttentionBlock(d_model, h, drop), d_model, drop),\n",
    "      ResConnection(FeedForward(d_model, d_ff, drop), d_model, drop)\n",
    "    ])\n",
    "    self.norm = nn.LayerNorm(d_model)\n",
    "\n",
    "  def forward(self, x, enc_out, src_mask, tgt_mask):\n",
    "    for layer in self.layers:\n",
    "      x = layer(x, x, enc_out, src_mask, tgt_mask)\n",
    "    return self.norm(x)"
   ]
  },
  {
   "cell_type": "code",
   "execution_count": 11,
   "metadata": {},
   "outputs": [],
   "source": [
    "class Transformer(nn.Module):\n",
    "  def __init__(self, src_vocab_size, tgt_vocab_size, d_model=512, h=8, d_ff=2048, drop=0.1, N=6):\n",
    "    super().__init__()\n",
    "    self.encoder = Encoder(d_model, h, d_ff, drop, N)\n",
    "    self.decoder = Decoder(d_model, h, d_ff, drop, N)\n",
    "    self.src_embed = InputEmbeddings(src_vocab_size, d_model)\n",
    "    self.tgt_embed = InputEmbeddings(tgt_vocab_size, d_model)\n",
    "    self.pos_enc = PositionalEncoding(d_model)\n",
    "    self.generator = nn.Linear(d_model, tgt_vocab_size)\n",
    "\n",
    "  def forward(self, src, tgt):\n",
    "    src = self.pos_enc(self.src_embed(src))\n",
    "    tgt = self.pos_enc(self.tgt_embed(tgt))\n",
    "    src_mask = (src != 0).unsqueeze(-2)\n",
    "    tgt_mask = (tgt != 0).unsqueeze(-2)\n",
    "    enc_out = self.encoder(src, src_mask)\n",
    "    dec_out = self.decoder(tgt, enc_out, src_mask, tgt_mask)\n",
    "    return self.generator(dec_out)"
   ]
  }
 ],
 "metadata": {
  "kernelspec": {
   "display_name": "dl-course",
   "language": "python",
   "name": "python3"
  },
  "language_info": {
   "codemirror_mode": {
    "name": "ipython",
    "version": 3
   },
   "file_extension": ".py",
   "mimetype": "text/x-python",
   "name": "python",
   "nbconvert_exporter": "python",
   "pygments_lexer": "ipython3",
   "version": "3.10.13"
  }
 },
 "nbformat": 4,
 "nbformat_minor": 2
}
