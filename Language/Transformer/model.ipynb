{
 "cells": [
  {
   "cell_type": "code",
   "execution_count": 1,
   "metadata": {},
   "outputs": [],
   "source": [
    "import torch\n",
    "import torch.nn as nn\n",
    "import torch.nn.functional as F\n",
    "import torch.optim as optim\n",
    "import math"
   ]
  },
  {
   "cell_type": "code",
   "execution_count": 2,
   "metadata": {},
   "outputs": [],
   "source": [
    "class InputEmbeddings(nn.Module):\n",
    "  def __init__(self, vocab_size, d_model=512):\n",
    "    super().__init__()\n",
    "    self.vocab_size = vocab_size\n",
    "    self.d_model = d_model\n",
    "    self.embedding = nn.Embedding(vocab_size, d_model)\n",
    "\n",
    "  def forward(self, x):\n",
    "    return self.embedding(x) * math.sqrt(self.d_model)"
   ]
  },
  {
   "cell_type": "code",
   "execution_count": 16,
   "metadata": {},
   "outputs": [],
   "source": [
    "class PositionalEncoding(nn.Module):\n",
    "  def __init__(self, seq_size, d_model=512):\n",
    "    self.seq_size = seq_size\n",
    "    self.d_model = d_model\n",
    "\n",
    "    self.pos_enc = torch.zeros(seq_size, d_model)\n",
    "    pos = torch.arange(0, seq_size).view(-1, 1).float()\n",
    "    common = torch.exp(torch.arange(0, d_model, 2).float() * -(math.log(10000.0) / d_model))\n",
    "\n",
    "    self.pos_enc[:, 0::2] = torch.sin(pos * common)\n",
    "    self.pos_enc[:, 1::2] = torch.cos(pos * common)\n",
    "    self.pos_enc.view(1, seq_size, -1).requires_grad_(False)\n",
    "\n",
    "  def forward(self, x):\n",
    "    return x + self.pos_enc[:, :x.size(1)] # x.size(1) is the sequence length, pos_enc is always fixed\n"
   ]
  },
  {
   "cell_type": "code",
   "execution_count": 17,
   "metadata": {},
   "outputs": [],
   "source": [
    "class FeedForward(nn.Module):\n",
    "  def __init__(self, d_model=512, d_ff=2048, drop=0.1):\n",
    "    super().__init__()\n",
    "    self.d_model = d_model\n",
    "    self.d_ff = d_ff\n",
    "    \n",
    "    self.net = nn.Sequential(\n",
    "      nn.Linear(self.d_model, self.d_ff),\n",
    "      nn.Relu(),\n",
    "      nn.Dropout(drop),\n",
    "      nn.Linear(self.d_ff, self.d_model),\n",
    "    )\n",
    "  \n",
    "  def forward(self, x):\n",
    "    return self.net(x)"
   ]
  },
  {
   "cell_type": "code",
   "execution_count": null,
   "metadata": {},
   "outputs": [],
   "source": [
    "class MHA(nn.Module):\n",
    "  def __init__(self, d_model=512, heads=8):\n",
    "    super().__init__()\n",
    "    self.d_model = d_model\n",
    "    self.heads = heads\n",
    "    self.heads_dim = d_model // heads\n",
    "\n",
    "    self.Qw = nn.Linear(self.heads_dim, self.heads_dim)\n",
    "    self.Kw = nn.Linear(self.heads_dim, self.heads_dim)\n",
    "    self.Vw = nn.Linear(self.heads_dim, self.heads_dim)\n",
    "\n",
    "  def forward(self, q, k, v):\n"
   ]
  }
 ],
 "metadata": {
  "kernelspec": {
   "display_name": "dl-course",
   "language": "python",
   "name": "python3"
  },
  "language_info": {
   "codemirror_mode": {
    "name": "ipython",
    "version": 3
   },
   "file_extension": ".py",
   "mimetype": "text/x-python",
   "name": "python",
   "nbconvert_exporter": "python",
   "pygments_lexer": "ipython3",
   "version": "undefined.undefined.undefined"
  }
 },
 "nbformat": 4,
 "nbformat_minor": 2
}
