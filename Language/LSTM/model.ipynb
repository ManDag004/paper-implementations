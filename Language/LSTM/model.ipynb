{
 "cells": [
  {
   "cell_type": "code",
   "execution_count": 1,
   "metadata": {},
   "outputs": [],
   "source": [
    "import os\n",
    "import torch\n",
    "import torch.nn as nn\n",
    "import torch.optim as optim\n",
    "import torch.nn.functional as F\n"
   ]
  },
  {
   "cell_type": "code",
   "execution_count": 2,
   "metadata": {},
   "outputs": [
    {
     "ename": "SyntaxError",
     "evalue": "incomplete input (3676909587.py, line 2)",
     "output_type": "error",
     "traceback": [
      "\u001b[0;36m  Cell \u001b[0;32mIn[2], line 2\u001b[0;36m\u001b[0m\n\u001b[0;31m    def __init__(self):\u001b[0m\n\u001b[0m                       ^\u001b[0m\n\u001b[0;31mSyntaxError\u001b[0m\u001b[0;31m:\u001b[0m incomplete input\n"
     ]
    }
   ],
   "source": [
    "class SimpleLSTM(nn.Module):\n",
    "  def __init__(self, input_size, a_size, c_size):\n",
    "    super().__init__()\n",
    "    self.input_size = input_size\n",
    "    self.a_size = a_size\n",
    "    self.c_size = c_size\n",
    "    self.forget_gate = nn.Sequential(\n",
    "      nn.Linear(self.input_size + self.a_size, self.c_size),\n",
    "      nn.Sigmoid()\n",
    "    )\n",
    "    self.update_gate = nn.Sequential(\n",
    "      nn.Linear(self.input_size + self.a_size, self.c_size),\n",
    "      nn.Sigmoid()\n",
    "    )\n",
    "    self.update_cell = nn.Sequential(\n",
    "      nn.Linear(self.input_size + self.a_size, self.c_size),\n",
    "      nn.Tanh()\n",
    "    )\n",
    "    self.output_gate = nn.Sequential(\n",
    "      nn.Linear(self.input_size + self.a_size, self.c_size),\n",
    "      nn.Sigmoid()\n",
    "    )\n",
    "  \n",
    "  def forward(self, x, a, c):\n",
    "    input = torch.concat([input, a], dim=1)\n",
    "    forget_vec = self.forget_gate(input)\n",
    "    update_vec = self.update_gate(input)\n",
    "    cell_vec = self.update_cell(input)\n",
    "    cell = forget_vec*c + update_vec*cell_vec\n",
    "    output_vec = self.output_gate(input)\n",
    "    a = output_vec*torch.tanh(cell)\n",
    "    return a, cell\n",
    "  \n",
    "\n"
   ]
  }
 ],
 "metadata": {
  "kernelspec": {
   "display_name": "dl-course",
   "language": "python",
   "name": "python3"
  },
  "language_info": {
   "codemirror_mode": {
    "name": "ipython",
    "version": 3
   },
   "file_extension": ".py",
   "mimetype": "text/x-python",
   "name": "python",
   "nbconvert_exporter": "python",
   "pygments_lexer": "ipython3",
   "version": "3.10.13"
  }
 },
 "nbformat": 4,
 "nbformat_minor": 2
}
