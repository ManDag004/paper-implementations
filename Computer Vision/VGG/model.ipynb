{
 "cells": [
  {
   "cell_type": "code",
   "execution_count": 48,
   "metadata": {},
   "outputs": [],
   "source": [
    "import torch\n",
    "import torch.nn as nn\n",
    "import torch.nn.functional as F\n",
    "import torchvision\n",
    "from torchvision import transforms\n",
    "import matplotlib.pyplot as plt\n"
   ]
  },
  {
   "cell_type": "code",
   "execution_count": 49,
   "metadata": {},
   "outputs": [],
   "source": [
    "# only the good ilplelentations\n",
    "configs = {\n",
    "  'VGG11': [64, 'm', 128, 'm', 256, 256, 'm', 512, 512, 'm', 512, 512, 'm'],\n",
    "  'VGG13': [64, 64,  'm', 128, 128, 'm', 256, 256, 'm', 512, 512, 'm', 512, 512, 'm'],\n",
    "  'VGG16': [64, 64,  'm', 128, 128, 'm', 256, 256, 256, 'm', 512, 512, 512, 'm', 512, 512, 512, 'm'],\n",
    "  'VGG19': [64, 64,  'm', 128, 128, 'm', 256, 256, 256, 256, 'm', 512, 512, 512, 512, 'm', 512, 512, 512, 512, 'm'],\n",
    "}\n"
   ]
  },
  {
   "cell_type": "code",
   "execution_count": 66,
   "metadata": {},
   "outputs": [],
   "source": [
    "class VGG(nn.Module):\n",
    "  def __init__(self, feats, classes=1000):\n",
    "    super().__init__()\n",
    "    self.net = self.make_layers(feats)\n",
    "    self.classifier = nn.Sequential(\n",
    "      nn.AdaptiveAvgPool2d((7,7)),\n",
    "      nn.Flatten(),\n",
    "      nn.Linear(512*7*7, 4096),\n",
    "      nn.ReLU(),\n",
    "      nn.Dropout(),\n",
    "      nn.Linear(4096, 4096),\n",
    "      nn.ReLU(),\n",
    "      nn.Dropout(),\n",
    "      nn.Linear(4096, classes),\n",
    "      nn.ReLU(),\n",
    "    )\n",
    "    self.init_weights()\n",
    "  \n",
    "  def forward(self, x):\n",
    "    x = self.net(x)\n",
    "    return self.classifier(x)\n",
    "  \n",
    "  def init_weights(self):\n",
    "    for l in self.modules():\n",
    "      if isinstance(l, nn.Conv2d) or isinstance(l, nn.Linear):\n",
    "        nn.init.normal_(l.weight, 0, 0.01)\n",
    "        nn.init.constant_(l.bias, 0)\n",
    "\n",
    "  def make_layers(self, layer_info, in_ch=3):\n",
    "    layers = []\n",
    "    for i in layer_info:\n",
    "      if i == 'm':\n",
    "        layers.append(nn.MaxPool2d(2, 2))\n",
    "      else:\n",
    "        layers.append(nn.Conv2d(in_ch, i, 3, 1, 1))\n",
    "        layers.append(nn.ReLU())\n",
    "        in_ch = i\n",
    "    return nn.Sequential(*layers)"
   ]
  },
  {
   "cell_type": "code",
   "execution_count": 67,
   "metadata": {},
   "outputs": [
    {
     "name": "stdout",
     "output_type": "stream",
     "text": [
      "[64, 'm', 128, 'm', 256, 256, 'm', 512, 512, 'm', 512, 512, 'm']\n"
     ]
    }
   ],
   "source": [
    "# example of creating a model using the provided configs\n",
    "vgg11 = VGG(configs['VGG11'])"
   ]
  },
  {
   "cell_type": "code",
   "execution_count": 68,
   "metadata": {},
   "outputs": [
    {
     "name": "stdout",
     "output_type": "stream",
     "text": [
      "VGG(\n",
      "  (net): Sequential(\n",
      "    (0): Conv2d(3, 64, kernel_size=(3, 3), stride=(1, 1), padding=(1, 1))\n",
      "    (1): ReLU()\n",
      "    (2): MaxPool2d(kernel_size=2, stride=2, padding=0, dilation=1, ceil_mode=False)\n",
      "    (3): Conv2d(64, 128, kernel_size=(3, 3), stride=(1, 1), padding=(1, 1))\n",
      "    (4): ReLU()\n",
      "    (5): MaxPool2d(kernel_size=2, stride=2, padding=0, dilation=1, ceil_mode=False)\n",
      "    (6): Conv2d(128, 256, kernel_size=(3, 3), stride=(1, 1), padding=(1, 1))\n",
      "    (7): ReLU()\n",
      "    (8): Conv2d(256, 256, kernel_size=(3, 3), stride=(1, 1), padding=(1, 1))\n",
      "    (9): ReLU()\n",
      "    (10): MaxPool2d(kernel_size=2, stride=2, padding=0, dilation=1, ceil_mode=False)\n",
      "    (11): Conv2d(256, 512, kernel_size=(3, 3), stride=(1, 1), padding=(1, 1))\n",
      "    (12): ReLU()\n",
      "    (13): Conv2d(512, 512, kernel_size=(3, 3), stride=(1, 1), padding=(1, 1))\n",
      "    (14): ReLU()\n",
      "    (15): MaxPool2d(kernel_size=2, stride=2, padding=0, dilation=1, ceil_mode=False)\n",
      "    (16): Conv2d(512, 512, kernel_size=(3, 3), stride=(1, 1), padding=(1, 1))\n",
      "    (17): ReLU()\n",
      "    (18): Conv2d(512, 512, kernel_size=(3, 3), stride=(1, 1), padding=(1, 1))\n",
      "    (19): ReLU()\n",
      "    (20): MaxPool2d(kernel_size=2, stride=2, padding=0, dilation=1, ceil_mode=False)\n",
      "  )\n",
      "  (classifier): Sequential(\n",
      "    (0): AdaptiveAvgPool2d(output_size=(7, 7))\n",
      "    (1): Flatten(start_dim=1, end_dim=-1)\n",
      "    (2): Linear(in_features=25088, out_features=4096, bias=True)\n",
      "    (3): ReLU()\n",
      "    (4): Dropout(p=0.5, inplace=False)\n",
      "    (5): Linear(in_features=4096, out_features=4096, bias=True)\n",
      "    (6): ReLU()\n",
      "    (7): Dropout(p=0.5, inplace=False)\n",
      "    (8): Linear(in_features=4096, out_features=1000, bias=True)\n",
      "    (9): ReLU()\n",
      "  )\n",
      ")\n"
     ]
    }
   ],
   "source": [
    "print(vgg11)"
   ]
  },
  {
   "cell_type": "code",
   "execution_count": 70,
   "metadata": {},
   "outputs": [
    {
     "data": {
      "text/plain": [
       "torch.Size([8, 1000])"
      ]
     },
     "execution_count": 70,
     "metadata": {},
     "output_type": "execute_result"
    }
   ],
   "source": [
    "vgg11(torch.rand(8, 3, 224, 224)).shape"
   ]
  }
 ],
 "metadata": {
  "kernelspec": {
   "display_name": "dl-course",
   "language": "python",
   "name": "python3"
  },
  "language_info": {
   "codemirror_mode": {
    "name": "ipython",
    "version": 3
   },
   "file_extension": ".py",
   "mimetype": "text/x-python",
   "name": "python",
   "nbconvert_exporter": "python",
   "pygments_lexer": "ipython3",
   "version": "3.10.13"
  }
 },
 "nbformat": 4,
 "nbformat_minor": 2
}
