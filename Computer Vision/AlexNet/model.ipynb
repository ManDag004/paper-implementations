{
 "cells": [
  {
   "cell_type": "code",
   "execution_count": 25,
   "metadata": {},
   "outputs": [],
   "source": [
    "import os\n",
    "import torch\n",
    "import torch.nn as nn\n",
    "import torch.nn.functional as F\n",
    "import torch.optim as optim\n",
    "from torch.utils import data\n",
    "import torchvision.datasets as datasets\n",
    "import torchvision.transforms as transforms\n",
    "import matplotlib.pyplot as plt"
   ]
  },
  {
   "cell_type": "code",
   "execution_count": 4,
   "metadata": {},
   "outputs": [],
   "source": [
    "device = torch.device('cuda') if torch.cuda.is_available() else torch.device('cpu')"
   ]
  },
  {
   "cell_type": "code",
   "execution_count": 40,
   "metadata": {},
   "outputs": [],
   "source": [
    "EPOCHS = 90\n",
    "BATCH_SIZE = 128\n",
    "MOMENTUM = 0.9\n",
    "LR = 0.1\n",
    "LR_DECAY = 0.0005\n",
    "NUM_CLASSES = 1000\n",
    "TRAIN_IMG_DIR = 'imagenet'\n",
    "IMG_DIM = 227\n"
   ]
  },
  {
   "cell_type": "code",
   "execution_count": 43,
   "metadata": {},
   "outputs": [],
   "source": [
    "class AlexNet(nn.Module):\n",
    "  def __init__(self, num_classes=1000):\n",
    "    super().__init__()\n",
    "\n",
    "    self.net = nn.Sequential(\n",
    "      nn.Conv2d(in_channels=3, out_channels=96, kernel_size=11, stride=4),\n",
    "      nn.ReLU(),\n",
    "      nn.LocalResponseNorm(size=5, alpha=1e-4, beta=0.75, k=2),\n",
    "      nn.MaxPool2d(kernel_size=3, stride=2),\n",
    "      nn.Conv2d(in_channels=96, out_channels=256, kernel_size=5, padding=2),\n",
    "      nn.ReLU(),\n",
    "      nn.LocalResponseNorm(size=5, alpha=1e-4, beta=0.75, k=2),\n",
    "      nn.MaxPool2d(kernel_size=3, stride=2),\n",
    "      nn.Conv2d(256, 384, 3, padding=1),\n",
    "      nn.ReLU(),\n",
    "      nn.Conv2d(384, 384, 3, padding=1),\n",
    "      nn.ReLU(),\n",
    "      nn.Conv2d(384, 256, 3, padding=1),\n",
    "      nn.ReLU(),\n",
    "      nn.MaxPool2d(kernel_size=3, stride=2)\n",
    "    )\n",
    "\n",
    "    self.classifier = nn.Sequential(\n",
    "      nn.Dropout(p=0.5, inplace=False),\n",
    "      nn.Linear(in_features=(256 * 6 * 6), out_features=4096),\n",
    "      nn.ReLU(),\n",
    "      nn.Dropout(p=0.5, inplace=True),\n",
    "      nn.Linear(in_features=4096, out_features=4096),\n",
    "      nn.ReLU(),\n",
    "      nn.Linear(in_features=4096, out_features=num_classes),\n",
    "    )\n",
    "    self.init_bias()\n",
    "\n",
    "  def init_bias(self):\n",
    "    for layer in self.net:\n",
    "      if isinstance(layer, nn.Conv2d):\n",
    "        nn.init.normal_(layer.weight, mean=0, std=0.01)\n",
    "        nn.init.constant_(layer.bias, 0)\n",
    "    nn.init.constant_(self.net[4].bias, 1)\n",
    "    nn.init.constant_(self.net[10].bias, 1)\n",
    "    nn.init.constant_(self.net[12].bias, 1)\n",
    "\n",
    "  def forward(self, x):\n",
    "    x = self.net(x)\n",
    "    x = x.view(-1, 256*6*6)\n",
    "    return self.classifier(x)"
   ]
  },
  {
   "cell_type": "code",
   "execution_count": 44,
   "metadata": {},
   "outputs": [
    {
     "name": "stdout",
     "output_type": "stream",
     "text": [
      "AlexNet(\n",
      "  (net): Sequential(\n",
      "    (0): Conv2d(3, 96, kernel_size=(11, 11), stride=(4, 4))\n",
      "    (1): ReLU()\n",
      "    (2): LocalResponseNorm(5, alpha=0.0001, beta=0.75, k=2)\n",
      "    (3): MaxPool2d(kernel_size=3, stride=2, padding=0, dilation=1, ceil_mode=False)\n",
      "    (4): Conv2d(96, 256, kernel_size=(5, 5), stride=(1, 1), padding=(2, 2))\n",
      "    (5): ReLU()\n",
      "    (6): LocalResponseNorm(5, alpha=0.0001, beta=0.75, k=2)\n",
      "    (7): MaxPool2d(kernel_size=3, stride=2, padding=0, dilation=1, ceil_mode=False)\n",
      "    (8): Conv2d(256, 384, kernel_size=(3, 3), stride=(1, 1), padding=(1, 1))\n",
      "    (9): ReLU()\n",
      "    (10): Conv2d(384, 384, kernel_size=(3, 3), stride=(1, 1), padding=(1, 1))\n",
      "    (11): ReLU()\n",
      "    (12): Conv2d(384, 256, kernel_size=(3, 3), stride=(1, 1), padding=(1, 1))\n",
      "    (13): ReLU()\n",
      "    (14): MaxPool2d(kernel_size=3, stride=2, padding=0, dilation=1, ceil_mode=False)\n",
      "  )\n",
      "  (classifier): Sequential(\n",
      "    (0): Dropout(p=0.5, inplace=False)\n",
      "    (1): Linear(in_features=9216, out_features=4096, bias=True)\n",
      "    (2): ReLU()\n",
      "    (3): Dropout(p=0.5, inplace=True)\n",
      "    (4): Linear(in_features=4096, out_features=4096, bias=True)\n",
      "    (5): ReLU()\n",
      "    (6): Linear(in_features=4096, out_features=1000, bias=True)\n",
      "  )\n",
      ")\n",
      "AlexNet Created!\n",
      "Files already downloaded and verified\n",
      "Dataset Created!\n",
      "DataLoader Created!\n",
      "Optimizer Created!\n",
      "LR Scheduler Created!\n",
      "tensor([7, 2, 1, 5, 1, 3, 9, 0, 1, 8, 8, 4, 0, 1, 7, 7, 3, 4, 1, 8, 5, 8, 9, 1,\n",
      "        1, 3, 8, 8, 6, 4, 2, 5, 4, 4, 8, 7, 3, 5, 2, 8, 5, 2, 5, 1, 3, 4, 0, 2,\n",
      "        5, 6, 4, 2, 9, 8, 2, 9, 5, 7, 6, 5, 6, 7, 9, 0, 5, 0, 6, 0, 6, 9, 9, 4,\n",
      "        8, 4, 4, 0, 4, 6, 9, 9, 0, 8, 3, 0, 4, 3, 7, 0, 9, 1, 8, 7, 5, 1, 8, 1,\n",
      "        2, 5, 8, 9, 4, 6, 8, 5, 9, 6, 2, 1, 8, 6, 4, 1, 2, 7, 6, 7, 8, 8, 5, 7,\n",
      "        8, 4, 3, 7, 1, 4, 8, 0]) tensor([[-0.2923, -0.0358,  0.0325,  ..., -0.0641, -0.2106,  0.0911],\n",
      "        [-0.0216,  0.0565, -0.1364,  ..., -0.2011, -0.0394,  0.3770],\n",
      "        [-0.7189, -0.1080, -0.0303,  ..., -0.5319, -0.0827,  0.6142],\n",
      "        ...,\n",
      "        [-0.2957,  0.0615, -0.2306,  ..., -0.3342, -0.1587,  0.0555],\n",
      "        [-0.1770, -0.0140, -0.2598,  ..., -0.1791, -0.3073,  0.5438],\n",
      "        [-0.0949, -0.0956,  0.1292,  ..., -0.1871, -0.1205,  0.4312]],\n",
      "       grad_fn=<AddmmBackward0>)\n"
     ]
    },
    {
     "ename": "RuntimeError",
     "evalue": "one of the variables needed for gradient computation has been modified by an inplace operation: [torch.FloatTensor [128, 4096]], which is output 0 of ReluBackward0, is at version 1; expected version 0 instead. Hint: enable anomaly detection to find the operation that failed to compute its gradient, with torch.autograd.set_detect_anomaly(True).",
     "output_type": "error",
     "traceback": [
      "\u001b[0;31m---------------------------------------------------------------------------\u001b[0m",
      "\u001b[0;31mRuntimeError\u001b[0m                              Traceback (most recent call last)",
      "Cell \u001b[0;32mIn[44], line 44\u001b[0m\n\u001b[1;32m     41\u001b[0m loss \u001b[38;5;241m=\u001b[39m F\u001b[38;5;241m.\u001b[39mcross_entropy(output, classes)\n\u001b[1;32m     43\u001b[0m optimizer\u001b[38;5;241m.\u001b[39mzero_grad()\n\u001b[0;32m---> 44\u001b[0m \u001b[43mloss\u001b[49m\u001b[38;5;241;43m.\u001b[39;49m\u001b[43mbackward\u001b[49m\u001b[43m(\u001b[49m\u001b[43m)\u001b[49m\n\u001b[1;32m     45\u001b[0m optimizer\u001b[38;5;241m.\u001b[39mstep()\n\u001b[1;32m     47\u001b[0m \u001b[38;5;28mprint\u001b[39m(loss)\n",
      "File \u001b[0;32m~/miniforge3/envs/dl-course/lib/python3.10/site-packages/torch/_tensor.py:492\u001b[0m, in \u001b[0;36mTensor.backward\u001b[0;34m(self, gradient, retain_graph, create_graph, inputs)\u001b[0m\n\u001b[1;32m    482\u001b[0m \u001b[38;5;28;01mif\u001b[39;00m has_torch_function_unary(\u001b[38;5;28mself\u001b[39m):\n\u001b[1;32m    483\u001b[0m     \u001b[38;5;28;01mreturn\u001b[39;00m handle_torch_function(\n\u001b[1;32m    484\u001b[0m         Tensor\u001b[38;5;241m.\u001b[39mbackward,\n\u001b[1;32m    485\u001b[0m         (\u001b[38;5;28mself\u001b[39m,),\n\u001b[0;32m   (...)\u001b[0m\n\u001b[1;32m    490\u001b[0m         inputs\u001b[38;5;241m=\u001b[39minputs,\n\u001b[1;32m    491\u001b[0m     )\n\u001b[0;32m--> 492\u001b[0m \u001b[43mtorch\u001b[49m\u001b[38;5;241;43m.\u001b[39;49m\u001b[43mautograd\u001b[49m\u001b[38;5;241;43m.\u001b[39;49m\u001b[43mbackward\u001b[49m\u001b[43m(\u001b[49m\n\u001b[1;32m    493\u001b[0m \u001b[43m    \u001b[49m\u001b[38;5;28;43mself\u001b[39;49m\u001b[43m,\u001b[49m\u001b[43m \u001b[49m\u001b[43mgradient\u001b[49m\u001b[43m,\u001b[49m\u001b[43m \u001b[49m\u001b[43mretain_graph\u001b[49m\u001b[43m,\u001b[49m\u001b[43m \u001b[49m\u001b[43mcreate_graph\u001b[49m\u001b[43m,\u001b[49m\u001b[43m \u001b[49m\u001b[43minputs\u001b[49m\u001b[38;5;241;43m=\u001b[39;49m\u001b[43minputs\u001b[49m\n\u001b[1;32m    494\u001b[0m \u001b[43m\u001b[49m\u001b[43m)\u001b[49m\n",
      "File \u001b[0;32m~/miniforge3/envs/dl-course/lib/python3.10/site-packages/torch/autograd/__init__.py:251\u001b[0m, in \u001b[0;36mbackward\u001b[0;34m(tensors, grad_tensors, retain_graph, create_graph, grad_variables, inputs)\u001b[0m\n\u001b[1;32m    246\u001b[0m     retain_graph \u001b[38;5;241m=\u001b[39m create_graph\n\u001b[1;32m    248\u001b[0m \u001b[38;5;66;03m# The reason we repeat the same comment below is that\u001b[39;00m\n\u001b[1;32m    249\u001b[0m \u001b[38;5;66;03m# some Python versions print out the first line of a multi-line function\u001b[39;00m\n\u001b[1;32m    250\u001b[0m \u001b[38;5;66;03m# calls in the traceback and some print out the last line\u001b[39;00m\n\u001b[0;32m--> 251\u001b[0m \u001b[43mVariable\u001b[49m\u001b[38;5;241;43m.\u001b[39;49m\u001b[43m_execution_engine\u001b[49m\u001b[38;5;241;43m.\u001b[39;49m\u001b[43mrun_backward\u001b[49m\u001b[43m(\u001b[49m\u001b[43m  \u001b[49m\u001b[38;5;66;43;03m# Calls into the C++ engine to run the backward pass\u001b[39;49;00m\n\u001b[1;32m    252\u001b[0m \u001b[43m    \u001b[49m\u001b[43mtensors\u001b[49m\u001b[43m,\u001b[49m\n\u001b[1;32m    253\u001b[0m \u001b[43m    \u001b[49m\u001b[43mgrad_tensors_\u001b[49m\u001b[43m,\u001b[49m\n\u001b[1;32m    254\u001b[0m \u001b[43m    \u001b[49m\u001b[43mretain_graph\u001b[49m\u001b[43m,\u001b[49m\n\u001b[1;32m    255\u001b[0m \u001b[43m    \u001b[49m\u001b[43mcreate_graph\u001b[49m\u001b[43m,\u001b[49m\n\u001b[1;32m    256\u001b[0m \u001b[43m    \u001b[49m\u001b[43minputs\u001b[49m\u001b[43m,\u001b[49m\n\u001b[1;32m    257\u001b[0m \u001b[43m    \u001b[49m\u001b[43mallow_unreachable\u001b[49m\u001b[38;5;241;43m=\u001b[39;49m\u001b[38;5;28;43;01mTrue\u001b[39;49;00m\u001b[43m,\u001b[49m\n\u001b[1;32m    258\u001b[0m \u001b[43m    \u001b[49m\u001b[43maccumulate_grad\u001b[49m\u001b[38;5;241;43m=\u001b[39;49m\u001b[38;5;28;43;01mTrue\u001b[39;49;00m\u001b[43m,\u001b[49m\n\u001b[1;32m    259\u001b[0m \u001b[43m\u001b[49m\u001b[43m)\u001b[49m\n",
      "\u001b[0;31mRuntimeError\u001b[0m: one of the variables needed for gradient computation has been modified by an inplace operation: [torch.FloatTensor [128, 4096]], which is output 0 of ReluBackward0, is at version 1; expected version 0 instead. Hint: enable anomaly detection to find the operation that failed to compute its gradient, with torch.autograd.set_detect_anomaly(True)."
     ]
    }
   ],
   "source": [
    "if __name__ == '__main__':\n",
    "  seed = torch.manual_seed(42)\n",
    "\n",
    "  alexnet = AlexNet().to(device)\n",
    "  print(alexnet)\n",
    "  print('AlexNet Created!')\n",
    "\n",
    "  # dataset = datasets.ImageFolder(TRAIN_IMG_DIR, transforms.Compose([\n",
    "  #   transforms.CenterCrop(IMG_DIM),\n",
    "  #   transforms.ToTensor(),\n",
    "  #   transforms.Normalize(mean=[0.485, 0.456, 0.406], std=[0.229, 0.224, 0.225]),\n",
    "  # ]))\n",
    "  dataset = datasets.ImageNet(root='./imgnet', train=True, download=True, transform=transforms.Compose([\n",
    "    transforms.CenterCrop(IMG_DIM),\n",
    "    transforms.ToTensor(),\n",
    "    transforms.Normalize(mean=[0.485, 0.456, 0.406], std=[0.229, 0.224, 0.225]),\n",
    "  ]))\n",
    "  print('Dataset Created!')\n",
    "\n",
    "  dataloader = data.DataLoader(\n",
    "    dataset,\n",
    "    batch_size=BATCH_SIZE,\n",
    "    shuffle=True,\n",
    "    pin_memory=True,\n",
    "    num_workers=8,\n",
    "    drop_last=True,\n",
    "  )\n",
    "  print('DataLoader Created!')\n",
    "\n",
    "  optimizer = optim.Adam(alexnet.parameters(), lr=LR)\n",
    "  print('Optimizer Created!')\n",
    "\n",
    "  lr_scheduler = optim.lr_scheduler.StepLR(optimizer, step_size=30, gamma=0.1)\n",
    "  print('LR Scheduler Created!')\n",
    "\n",
    "  for epoch in range(EPOCHS):\n",
    "    for imgs, classes in dataloader:\n",
    "      imgs, classes = imgs.to(device), classes.to(device)\n",
    "      output = alexnet(imgs)\n",
    "      loss = F.cross_entropy(output, classes)\n",
    "\n",
    "      optimizer.zero_grad()\n",
    "      loss.backward()\n",
    "      optimizer.step()\n",
    "\n",
    "      print(loss)\n",
    "\n",
    "    torch.save(alexnet.state_dict(), f'alexnet-{epoch}-{loss}.pth')"
   ]
  },
  {
   "cell_type": "code",
   "execution_count": 50,
   "metadata": {},
   "outputs": [
    {
     "data": {
      "text/plain": [
       "tensor(2.3026)"
      ]
     },
     "execution_count": 50,
     "metadata": {},
     "output_type": "execute_result"
    }
   ],
   "source": [
    "F.cross_entropy(torch.tensor([10. for _ in range(10)]), torch.tensor(0))"
   ]
  },
  {
   "cell_type": "code",
   "execution_count": 57,
   "metadata": {},
   "outputs": [
    {
     "data": {
      "text/plain": [
       "tensor([-2.1179, -2.1179, -2.1179, -2.1179, -2.1179, -2.1179, -2.1179, -2.1179,\n",
       "        -2.1179, -2.1179, -2.1179, -2.1179, -2.1179, -2.1179, -2.1179, -2.1179,\n",
       "        -2.1179, -2.1179, -2.1179, -2.1179, -2.1179, -2.1179, -2.1179, -2.1179,\n",
       "        -2.1179, -2.1179, -2.1179, -2.1179, -2.1179, -2.1179, -2.1179, -2.1179,\n",
       "        -2.1179, -2.1179, -2.1179, -2.1179, -2.1179, -2.1179, -2.1179, -2.1179,\n",
       "        -2.1179, -2.1179, -2.1179, -2.1179, -2.1179, -2.1179, -2.1179, -2.1179,\n",
       "        -2.1179, -2.1179, -2.1179, -2.1179, -2.1179, -2.1179, -2.1179, -2.1179,\n",
       "        -2.1179, -2.1179, -2.1179, -2.1179, -2.1179, -2.1179, -2.1179, -2.1179,\n",
       "        -2.1179, -2.1179, -2.1179, -2.1179, -2.1179, -2.1179, -2.1179, -2.1179,\n",
       "        -2.1179, -2.1179, -2.1179, -2.1179, -2.1179, -2.1179, -2.1179, -2.1179,\n",
       "        -2.1179, -2.1179, -2.1179, -2.1179, -2.1179, -2.1179, -2.1179, -2.1179,\n",
       "        -2.1179, -2.1179, -2.1179, -2.1179, -2.1179, -2.1179, -2.1179, -2.1179,\n",
       "        -2.1179, -2.1179, -2.1179, -2.1179, -2.1179, -2.1179, -2.1179, -2.1179,\n",
       "        -2.1179, -2.1179, -2.1179, -2.1179, -2.1179, -2.1179, -2.1179, -2.1179,\n",
       "        -2.1179, -2.1179, -2.1179, -2.1179, -2.1179, -2.1179, -2.1179, -2.1179,\n",
       "        -2.1179, -2.1179, -2.1179, -2.1179, -2.1179, -2.1179, -2.1179, -2.1179,\n",
       "        -2.1179, -2.1179, -2.1179, -2.1179, -2.1179, -2.1179, -2.1179, -2.1179,\n",
       "        -2.1179, -2.1179, -2.1179, -2.1179, -2.1179, -2.1179, -2.1179, -2.1179,\n",
       "        -2.1179, -2.1179, -2.1179, -2.1179, -2.1179, -2.1179, -2.1179, -2.1179,\n",
       "        -2.1179, -2.1179, -2.1179, -2.1179, -2.1179, -2.1179, -2.1179, -2.1179,\n",
       "        -2.1179, -2.1179, -2.1179, -2.1179, -2.1179, -2.1179, -2.1179, -2.1179,\n",
       "        -2.1179, -2.1179, -2.1179, -2.1179, -2.1179, -2.1179, -2.1179, -2.1179,\n",
       "        -2.1179, -2.1179, -2.1179, -2.1179, -2.1179, -2.1179, -2.1179, -2.1179,\n",
       "        -2.1179, -2.1179, -2.1179, -2.1179, -2.1179, -2.1179, -2.1179, -2.1179,\n",
       "        -2.1179, -2.1179, -2.1179, -2.1179, -2.1179, -2.1179, -2.1179, -2.1179,\n",
       "        -2.1179, -2.1179, -2.1179, -2.1179, -2.1179, -2.1179, -2.1179, -2.1179,\n",
       "        -2.1179, -2.1179, -2.1179, -2.1179, -2.1179, -2.1179, -2.1179, -2.1179,\n",
       "        -2.1179, -2.1179, -2.1179, -2.1179, -2.1179, -2.1179, -2.1179, -2.1179,\n",
       "        -2.1179, -2.1179, -2.1179])"
      ]
     },
     "execution_count": 57,
     "metadata": {},
     "output_type": "execute_result"
    }
   ],
   "source": [
    "dataset[0][0][0][0]"
   ]
  },
  {
   "cell_type": "code",
   "execution_count": null,
   "metadata": {},
   "outputs": [],
   "source": []
  }
 ],
 "metadata": {
  "kernelspec": {
   "display_name": "dl-course",
   "language": "python",
   "name": "python3"
  },
  "language_info": {
   "codemirror_mode": {
    "name": "ipython",
    "version": 3
   },
   "file_extension": ".py",
   "mimetype": "text/x-python",
   "name": "python",
   "nbconvert_exporter": "python",
   "pygments_lexer": "ipython3",
   "version": "3.10.13"
  }
 },
 "nbformat": 4,
 "nbformat_minor": 2
}
