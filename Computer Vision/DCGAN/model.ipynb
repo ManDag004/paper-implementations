{
 "cells": [
  {
   "cell_type": "code",
   "execution_count": 2,
   "metadata": {},
   "outputs": [],
   "source": [
    "import torch\n",
    "import torch.nn as nn\n",
    "import torch.nn.functional as F\n",
    "import torch.optim as optim\n",
    "import torchvision\n"
   ]
  },
  {
   "cell_type": "code",
   "execution_count": 10,
   "metadata": {},
   "outputs": [],
   "source": [
    "class Discriminator(nn.Module):\n",
    "  def __init__(self, img_dim=64, img_ch=3, hidden_dim=[128, 256, 512, 1024]):\n",
    "    super().__init__()\n",
    "    self.net = nn.Sequential(\n",
    "      nn.Conv2d(img_ch, hidden_dim[0], 4, 2, 1),\n",
    "      nn.LeakyReLU(0.2, inplace=True),\n",
    "      nn.Conv2d(hidden_dim[0], hidden_dim[1], 4, 2, 1),\n",
    "      nn.LeakyReLU(0.2, inplace=True),\n",
    "      nn.BatchNorm2d(hidden_dim[1]),\n",
    "      nn.Conv2d(hidden_dim[1], hidden_dim[2], 4, 2, 1),\n",
    "      nn.LeakyReLU(0.2, inplace=True),\n",
    "      nn.BatchNorm2d(hidden_dim[2]),\n",
    "      nn.Conv2d(hidden_dim[2], hidden_dim[3], 4, 2, 1),\n",
    "      nn.LeakyReLU(0.2, inplace=True),\n",
    "      nn.BatchNorm2d(hidden_dim[3]),\n",
    "    )\n",
    "    self.classifier = nn.Sequential(\n",
    "      nn.Flatten(),\n",
    "      nn.Linear(hidden_dim[3] * ( img_dim // 2**(len(hidden_dim)) )**2, 1),\n",
    "      nn.Sigmoid()\n",
    "    )\n",
    "  \n",
    "  def forward(self, x):\n",
    "    x = self.net(x)\n",
    "    return self.classifier(x).squeeze()"
   ]
  },
  {
   "cell_type": "code",
   "execution_count": 6,
   "metadata": {},
   "outputs": [],
   "source": [
    "class Generator(nn.Module):\n",
    "  def __init__(self, latent_dim=100, img_dim=64, img_ch=3, hidden_dim=[1024, 512, 256, 128]):\n",
    "    super().__init__()\n",
    "    self.project = nn.Sequential(\n",
    "      nn.Linear(latent_dim, hidden_dim[0] * (img_dim // (2**len(hidden_dim)))**2),\n",
    "      lambda x: x.view(-1, hidden_dim[0], img_dim // (2**len(hidden_dim)), img_dim // (2**len(hidden_dim))),\n",
    "      nn.BatchNorm2d(hidden_dim[0]),\n",
    "      nn.ReLU(inplace=True),\n",
    "    )\n",
    "\n",
    "    self.net = nn.Sequential(\n",
    "      nn.ConvTranspose2d(hidden_dim[0], hidden_dim[1], 4, 2, 1),\n",
    "      nn.BatchNorm2d(hidden_dim[1]),\n",
    "      nn.ReLU(inplace=True),\n",
    "      nn.ConvTranspose2d(hidden_dim[1], hidden_dim[2], 4, 2, 1),\n",
    "      nn.BatchNorm2d(hidden_dim[2]),\n",
    "      nn.ReLU(inplace=True),\n",
    "      nn.ConvTranspose2d(hidden_dim[2], hidden_dim[3], 4, 2, 1),\n",
    "      nn.BatchNorm2d(hidden_dim[3]),\n",
    "      nn.ReLU(inplace=True),\n",
    "      nn.ConvTranspose2d(hidden_dim[3], img_ch, 4, 2, 1),\n",
    "      nn.Tanh()\n",
    "    )\n",
    "  \n",
    "  def forward(self, x):\n",
    "    x = self.project(x)\n",
    "    return self.net(x)"
   ]
  },
  {
   "cell_type": "code",
   "execution_count": 11,
   "metadata": {},
   "outputs": [],
   "source": [
    "class DCGAN(nn.Module):\n",
    "  def __init__(self, latent_dim=100, img_dim=64, img_ch=3, hidden_dim=[1024, 512, 256, 128]):\n",
    "    super().__init__()\n",
    "    self.disc = Discriminator(img_dim, img_ch, hidden_dim)\n",
    "    self.gen = Generator(latent_dim, img_dim, img_ch, hidden_dim)\n",
    "    "
   ]
  },
  {
   "cell_type": "code",
   "execution_count": null,
   "metadata": {},
   "outputs": [],
   "source": []
  }
 ],
 "metadata": {
  "kernelspec": {
   "display_name": "dl-course",
   "language": "python",
   "name": "python3"
  },
  "language_info": {
   "codemirror_mode": {
    "name": "ipython",
    "version": 3
   },
   "file_extension": ".py",
   "mimetype": "text/x-python",
   "name": "python",
   "nbconvert_exporter": "python",
   "pygments_lexer": "ipython3",
   "version": "3.10.13"
  }
 },
 "nbformat": 4,
 "nbformat_minor": 2
}
